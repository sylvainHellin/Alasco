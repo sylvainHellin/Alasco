{
 "cells": [
  {
   "cell_type": "markdown",
   "metadata": {},
   "source": [
    "# Example using alasco SDK"
   ]
  },
  {
   "cell_type": "markdown",
   "metadata": {},
   "source": [
    "## Instantiate the client"
   ]
  },
  {
   "cell_type": "code",
   "execution_count": 1,
   "metadata": {},
   "outputs": [
    {
     "name": "stdout",
     "output_type": "stream",
     "text": [
      "outputs/2024-08-22 was created\n"
     ]
    }
   ],
   "source": [
    "from alasco import Alasco\n",
    "from dotenv import load_dotenv, find_dotenv\n",
    "import os\n",
    "\n",
    "_ = load_dotenv(find_dotenv(raise_error_if_not_found=True))\n",
    "token = os.environ[\"token_test\"]\n",
    "key = os.environ[\"key_test\"]\n",
    "alasco = Alasco(token=token, key=key, verbose=False, download_path = \"standard\")"
   ]
  },
  {
   "cell_type": "markdown",
   "metadata": {},
   "source": [
    "## Fetch property data"
   ]
  },
  {
   "cell_type": "code",
   "execution_count": 2,
   "metadata": {},
   "outputs": [
    {
     "data": {
      "text/html": [
       "<div>\n",
       "<style scoped>\n",
       "    .dataframe tbody tr th:only-of-type {\n",
       "        vertical-align: middle;\n",
       "    }\n",
       "\n",
       "    .dataframe tbody tr th {\n",
       "        vertical-align: top;\n",
       "    }\n",
       "\n",
       "    .dataframe thead th {\n",
       "        text-align: right;\n",
       "    }\n",
       "</style>\n",
       "<table border=\"1\" class=\"dataframe\">\n",
       "  <thead>\n",
       "    <tr style=\"text-align: right;\">\n",
       "      <th></th>\n",
       "      <th>id</th>\n",
       "      <th>type</th>\n",
       "      <th>name</th>\n",
       "      <th>description</th>\n",
       "      <th>address</th>\n",
       "      <th>zip_code</th>\n",
       "      <th>city</th>\n",
       "      <th>country</th>\n",
       "      <th>date_created</th>\n",
       "      <th>relationships.projects.links.related</th>\n",
       "    </tr>\n",
       "  </thead>\n",
       "  <tbody>\n",
       "    <tr>\n",
       "      <th>0</th>\n",
       "      <td>97bad92e-0fd8-4987-9f8e-aafcd4eafcd7</td>\n",
       "      <td>PROPERTY</td>\n",
       "      <td>Wohnpark Unteraching</td>\n",
       "      <td></td>\n",
       "      <td>Am Sportpark 4</td>\n",
       "      <td>82008</td>\n",
       "      <td>Unterhaching</td>\n",
       "      <td></td>\n",
       "      <td>2022-09-19T12:15:55.539340+00:00</td>\n",
       "      <td>https://api.alasco.de/v1/properties/97bad92e-0...</td>\n",
       "    </tr>\n",
       "    <tr>\n",
       "      <th>1</th>\n",
       "      <td>6ee2f67d-6911-4085-a7b3-4dbc370f494f</td>\n",
       "      <td>PROPERTY</td>\n",
       "      <td>Grundstück Leopoldstraße</td>\n",
       "      <td></td>\n",
       "      <td>Leopoldstr. 21</td>\n",
       "      <td>80802</td>\n",
       "      <td>München</td>\n",
       "      <td></td>\n",
       "      <td>2021-07-14T09:50:47.760738+00:00</td>\n",
       "      <td>https://api.alasco.de/v1/properties/6ee2f67d-6...</td>\n",
       "    </tr>\n",
       "  </tbody>\n",
       "</table>\n",
       "</div>"
      ],
      "text/plain": [
       "                                     id      type                      name  \\\n",
       "0  97bad92e-0fd8-4987-9f8e-aafcd4eafcd7  PROPERTY      Wohnpark Unteraching   \n",
       "1  6ee2f67d-6911-4085-a7b3-4dbc370f494f  PROPERTY  Grundstück Leopoldstraße   \n",
       "\n",
       "  description         address zip_code          city country  \\\n",
       "0              Am Sportpark 4    82008  Unterhaching           \n",
       "1              Leopoldstr. 21    80802       München           \n",
       "\n",
       "                       date_created  \\\n",
       "0  2022-09-19T12:15:55.539340+00:00   \n",
       "1  2021-07-14T09:50:47.760738+00:00   \n",
       "\n",
       "                relationships.projects.links.related  \n",
       "0  https://api.alasco.de/v1/properties/97bad92e-0...  \n",
       "1  https://api.alasco.de/v1/properties/6ee2f67d-6...  "
      ]
     },
     "execution_count": 2,
     "metadata": {},
     "output_type": "execute_result"
    }
   ],
   "source": [
    "dfs = alasco.data_fetcher.get_all_df()\n",
    "dfs[\"properties\"].head(2)"
   ]
  }
 ],
 "metadata": {
  "kernelspec": {
   "display_name": ".venv_alasco",
   "language": "python",
   "name": "python3"
  },
  "language_info": {
   "codemirror_mode": {
    "name": "ipython",
    "version": 3
   },
   "file_extension": ".py",
   "mimetype": "text/x-python",
   "name": "python",
   "nbconvert_exporter": "python",
   "pygments_lexer": "ipython3",
   "version": "3.12.5"
  }
 },
 "nbformat": 4,
 "nbformat_minor": 2
}
