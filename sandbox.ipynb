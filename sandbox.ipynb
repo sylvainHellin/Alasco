{
 "cells": [
  {
   "cell_type": "markdown",
   "metadata": {},
   "source": [
    "# Batch download all documents"
   ]
  },
  {
   "cell_type": "markdown",
   "metadata": {},
   "source": [
    "for LOVT VISION and LOVT VIBE"
   ]
  },
  {
   "cell_type": "markdown",
   "metadata": {},
   "source": [
    "## Instantiate Alasco client"
   ]
  },
  {
   "cell_type": "code",
   "execution_count": 1,
   "metadata": {},
   "outputs": [
    {
     "name": "stdout",
     "output_type": "stream",
     "text": [
      "outputs/2024-08-21 was created\n"
     ]
    }
   ],
   "source": [
    "from Alasco.alasco import Alasco\n",
    "from dotenv import load_dotenv, find_dotenv\n",
    "import pandas as pd\n",
    "import os\n",
    "import re\n",
    "\n",
    "_ = load_dotenv(find_dotenv(raise_error_if_not_found=True))\n",
    "token = os.environ[\"token_hines\"]\n",
    "key = os.environ[\"key_hines\"]\n",
    "alasco = Alasco(token=token, key=key, verbose=True)"
   ]
  },
  {
   "cell_type": "markdown",
   "metadata": {},
   "source": [
    "## Fetch data for these projects"
   ]
  },
  {
   "cell_type": "code",
   "execution_count": 2,
   "metadata": {},
   "outputs": [],
   "source": [
    "dfs = alasco.data_fetcher.get_all_df(property_name=\"LOVT\")"
   ]
  },
  {
   "cell_type": "markdown",
   "metadata": {},
   "source": [
    "## Transform Datasets"
   ]
  },
  {
   "cell_type": "code",
   "execution_count": 7,
   "metadata": {},
   "outputs": [],
   "source": [
    "df_core = alasco.data_transformer.consolidate_core_DataFrames(dfs=dfs)\n",
    "df_contracts = df_core.copy()\n",
    "df_invoices = alasco.data_transformer.consolidate_invoices_DataFrame(df_core=df_core, df_invoices=dfs[\"invoices\"])\n",
    "df_change_orders = alasco.data_transformer.consolidate_change_orders_DataFrame(df_core=df_core, df_change_orders = dfs[\"change_orders\"])\n"
   ]
  },
  {
   "cell_type": "markdown",
   "metadata": {},
   "source": [
    "## Download documents"
   ]
  },
  {
   "cell_type": "code",
   "execution_count": 20,
   "metadata": {},
   "outputs": [
    {
     "data": {
      "text/plain": [
       "array(['51104 - 002 LOVT VISION', '51102 - 001 LOVT VIBE'], dtype=object)"
      ]
     },
     "execution_count": 20,
     "metadata": {},
     "output_type": "execute_result"
    }
   ],
   "source": [
    "df_core.project_name.unique()"
   ]
  },
  {
   "cell_type": "code",
   "execution_count": 9,
   "metadata": {},
   "outputs": [
    {
     "name": "stdout",
     "output_type": "stream",
     "text": [
      "Created directory: outputs/2024-08-21/LOVT/51104 - 002 LOVT VISION/LOVT/51104 - 002 LOVT VISION/contracts\n",
      "Created directory: outputs/2024-08-21/LOVT/51104 - 002 LOVT VISION/LOVT/51104 - 002 LOVT VISION/change_orders\n",
      "Created directory: outputs/2024-08-21/LOVT/51104 - 002 LOVT VISION/LOVT/51104 - 002 LOVT VISION/invoices\n"
     ]
    }
   ],
   "source": [
    "project_names = [\"51104 - 002 LOVT VISION\", \"51102 - 001 LOVT VIBE\"]\n",
    "core_path = f\"outputs/{alaco.document_downloader.today}\"\n",
    "\n",
    "for project_name in project_names:\n",
    "    subset_df_core = df_core[df_core[\"project_name\"] == project_name].copy()\n",
    "    subset_df_contracts = df_contracts[df_contracts[\"project_name\"] == project_name].copy()\n",
    "    subset_df_invoices = df_invoices[df_invoices[\"project_name\"] == project_name].copy()\n",
    "    subset_df_change_orders = df_change_orders[df_change_orders[\"project_name\"] == project_name].copy()\n",
    "\n",
    "    # Set path for downloading documents for this project\n",
    "    alasco.document_downloader.download_path = core_path + \"/LOVT\" + \"/\" + project_name\n",
    "\n",
    "    # Download documents\n",
    "    alasco.document_downloader.download_contracts(df=subset_df_contracts)\n",
    "    alasco.document_downloader.download_change_orders(df=subset_df_change_orders)\n",
    "    alasco.document_downloader.download_invoices(df=subset_df_invoices)\n",
    "\n"
   ]
  },
  {
   "cell_type": "code",
   "execution_count": null,
   "metadata": {},
   "outputs": [],
   "source": [
    "# alasco.document_downloader.download_contracts(df=df_core.iloc[:10,:], sub_folder=\"contracts\")\n",
    "# alasco.document_downloader.download_invoices(df=df_invoices.iloc[:10,:], sub_folder=\"invoices\")\n",
    "# alasco.document_downloader.download_change_orders(df=df_change_orders.iloc[:10,:], sub_folder = \"change_orders\")"
   ]
  },
  {
   "cell_type": "code",
   "execution_count": 21,
   "metadata": {},
   "outputs": [
    {
     "data": {
      "text/html": [
       "<div>\n",
       "<style scoped>\n",
       "    .dataframe tbody tr th:only-of-type {\n",
       "        vertical-align: middle;\n",
       "    }\n",
       "\n",
       "    .dataframe tbody tr th {\n",
       "        vertical-align: top;\n",
       "    }\n",
       "\n",
       "    .dataframe thead th {\n",
       "        text-align: right;\n",
       "    }\n",
       "</style>\n",
       "<table border=\"1\" class=\"dataframe\">\n",
       "  <thead>\n",
       "    <tr style=\"text-align: right;\">\n",
       "      <th></th>\n",
       "      <th>property_id</th>\n",
       "      <th>property_name</th>\n",
       "      <th>project_id</th>\n",
       "      <th>project_name</th>\n",
       "      <th>contract_unit_id</th>\n",
       "      <th>contract_unit_name</th>\n",
       "      <th>contract_id</th>\n",
       "      <th>contract_name</th>\n",
       "      <th>contract_number</th>\n",
       "      <th>contractor_id</th>\n",
       "      <th>contractor_name</th>\n",
       "      <th>change_order_id</th>\n",
       "      <th>change_order_name</th>\n",
       "      <th>change_order_identifier</th>\n",
       "    </tr>\n",
       "  </thead>\n",
       "  <tbody>\n",
       "    <tr>\n",
       "      <th>0</th>\n",
       "      <td>a6fe95ce-01d9-4fb7-a36f-9c6632110099</td>\n",
       "      <td>06-LOVT</td>\n",
       "      <td>053b0bc8-e945-49a0-88ed-98c1ca497cf6</td>\n",
       "      <td>51104 - 002 LOVT VISION</td>\n",
       "      <td>9c768256-7019-4de3-aa04-ef89a5f9feda</td>\n",
       "      <td>3-551-1 Technische Aussenanlagen - Abwasseranl...</td>\n",
       "      <td>b3e104e5-fc5c-4c54-9486-56c8cfa8e208</td>\n",
       "      <td>51104-002-3-551-1-0219-Sickerschacht-Heinrich ...</td>\n",
       "      <td>51104-002-3-551-1-0219</td>\n",
       "      <td>97e21858-34ac-4822-8d85-48753ff04a1c</td>\n",
       "      <td>Heinrich Preis GmbH (1074998)</td>\n",
       "      <td>6fde9c97-b471-4a9e-93ba-8fa404681234</td>\n",
       "      <td>Miete Bauzaun</td>\n",
       "      <td>01</td>\n",
       "    </tr>\n",
       "    <tr>\n",
       "      <th>1</th>\n",
       "      <td>a6fe95ce-01d9-4fb7-a36f-9c6632110099</td>\n",
       "      <td>06-LOVT</td>\n",
       "      <td>053b0bc8-e945-49a0-88ed-98c1ca497cf6</td>\n",
       "      <td>51104 - 002 LOVT VISION</td>\n",
       "      <td>9c768256-7019-4de3-aa04-ef89a5f9feda</td>\n",
       "      <td>3-551-1 Technische Aussenanlagen - Abwasseranl...</td>\n",
       "      <td>b3e104e5-fc5c-4c54-9486-56c8cfa8e208</td>\n",
       "      <td>51104-002-3-551-1-0219-Sickerschacht-Heinrich ...</td>\n",
       "      <td>51104-002-3-551-1-0219</td>\n",
       "      <td>97e21858-34ac-4822-8d85-48753ff04a1c</td>\n",
       "      <td>Heinrich Preis GmbH (1074998)</td>\n",
       "      <td>6fde9c97-b471-4a9e-93ba-8fa404681234</td>\n",
       "      <td>Miete Bauzaun</td>\n",
       "      <td>01</td>\n",
       "    </tr>\n",
       "    <tr>\n",
       "      <th>2</th>\n",
       "      <td>a6fe95ce-01d9-4fb7-a36f-9c6632110099</td>\n",
       "      <td>06-LOVT</td>\n",
       "      <td>053b0bc8-e945-49a0-88ed-98c1ca497cf6</td>\n",
       "      <td>51104 - 002 LOVT VISION</td>\n",
       "      <td>b247c644-d091-4e8f-90cf-87aa10fff0e7</td>\n",
       "      <td>3-391-8 Provisorische Baukonstruktionen</td>\n",
       "      <td>fd23d931-3a7d-4ce4-ba1b-11b8a23a8a6a</td>\n",
       "      <td>51104-002-3-391-8-0418_Deda_Absturzsicherung 1500</td>\n",
       "      <td>51104-002-3-391-8-0418</td>\n",
       "      <td>c8acee0e-1831-4462-b3bd-12717af19be2</td>\n",
       "      <td>Deda Bau GmbH (1103584)</td>\n",
       "      <td>9351102e-4af8-465e-9821-c86dcde42c45</td>\n",
       "      <td>NA01 Nachtragsangebot für zusätzliche provisor...</td>\n",
       "      <td>01</td>\n",
       "    </tr>\n",
       "    <tr>\n",
       "      <th>3</th>\n",
       "      <td>a6fe95ce-01d9-4fb7-a36f-9c6632110099</td>\n",
       "      <td>06-LOVT</td>\n",
       "      <td>053b0bc8-e945-49a0-88ed-98c1ca497cf6</td>\n",
       "      <td>51104 - 002 LOVT VISION</td>\n",
       "      <td>2c670f63-4d94-4a61-af03-8445e62cc694</td>\n",
       "      <td>3-391-7 Gerüste</td>\n",
       "      <td>317a6514-f334-435f-ba57-a41e40fd1cec</td>\n",
       "      <td>51104-002-3-391-7-0222-Gerüst Treppenturm Ster...</td>\n",
       "      <td>51104-002-3-391-7-0222</td>\n",
       "      <td>abc455b6-5f64-481c-987b-42ea4931485e</td>\n",
       "      <td>Wieser Malerbetrieb Gerüstbau GmbH (1091399)</td>\n",
       "      <td>8ca31d1d-c7d6-490c-b009-976cf0d4e3e9</td>\n",
       "      <td>Erweiterung Schutzdach DG</td>\n",
       "      <td>03</td>\n",
       "    </tr>\n",
       "    <tr>\n",
       "      <th>4</th>\n",
       "      <td>a6fe95ce-01d9-4fb7-a36f-9c6632110099</td>\n",
       "      <td>06-LOVT</td>\n",
       "      <td>053b0bc8-e945-49a0-88ed-98c1ca497cf6</td>\n",
       "      <td>51104 - 002 LOVT VISION</td>\n",
       "      <td>2c670f63-4d94-4a61-af03-8445e62cc694</td>\n",
       "      <td>3-391-7 Gerüste</td>\n",
       "      <td>317a6514-f334-435f-ba57-a41e40fd1cec</td>\n",
       "      <td>51104-002-3-391-7-0222-Gerüst Treppenturm Ster...</td>\n",
       "      <td>51104-002-3-391-7-0222</td>\n",
       "      <td>abc455b6-5f64-481c-987b-42ea4931485e</td>\n",
       "      <td>Wieser Malerbetrieb Gerüstbau GmbH (1091399)</td>\n",
       "      <td>4350ea84-60dc-4a83-8819-9742718fe58f</td>\n",
       "      <td>Treppenlauf Lichtgraben</td>\n",
       "      <td>04</td>\n",
       "    </tr>\n",
       "  </tbody>\n",
       "</table>\n",
       "</div>"
      ],
      "text/plain": [
       "                            property_id property_name  \\\n",
       "0  a6fe95ce-01d9-4fb7-a36f-9c6632110099       06-LOVT   \n",
       "1  a6fe95ce-01d9-4fb7-a36f-9c6632110099       06-LOVT   \n",
       "2  a6fe95ce-01d9-4fb7-a36f-9c6632110099       06-LOVT   \n",
       "3  a6fe95ce-01d9-4fb7-a36f-9c6632110099       06-LOVT   \n",
       "4  a6fe95ce-01d9-4fb7-a36f-9c6632110099       06-LOVT   \n",
       "\n",
       "                             project_id             project_name  \\\n",
       "0  053b0bc8-e945-49a0-88ed-98c1ca497cf6  51104 - 002 LOVT VISION   \n",
       "1  053b0bc8-e945-49a0-88ed-98c1ca497cf6  51104 - 002 LOVT VISION   \n",
       "2  053b0bc8-e945-49a0-88ed-98c1ca497cf6  51104 - 002 LOVT VISION   \n",
       "3  053b0bc8-e945-49a0-88ed-98c1ca497cf6  51104 - 002 LOVT VISION   \n",
       "4  053b0bc8-e945-49a0-88ed-98c1ca497cf6  51104 - 002 LOVT VISION   \n",
       "\n",
       "                       contract_unit_id  \\\n",
       "0  9c768256-7019-4de3-aa04-ef89a5f9feda   \n",
       "1  9c768256-7019-4de3-aa04-ef89a5f9feda   \n",
       "2  b247c644-d091-4e8f-90cf-87aa10fff0e7   \n",
       "3  2c670f63-4d94-4a61-af03-8445e62cc694   \n",
       "4  2c670f63-4d94-4a61-af03-8445e62cc694   \n",
       "\n",
       "                                  contract_unit_name  \\\n",
       "0  3-551-1 Technische Aussenanlagen - Abwasseranl...   \n",
       "1  3-551-1 Technische Aussenanlagen - Abwasseranl...   \n",
       "2            3-391-8 Provisorische Baukonstruktionen   \n",
       "3                                    3-391-7 Gerüste   \n",
       "4                                    3-391-7 Gerüste   \n",
       "\n",
       "                            contract_id  \\\n",
       "0  b3e104e5-fc5c-4c54-9486-56c8cfa8e208   \n",
       "1  b3e104e5-fc5c-4c54-9486-56c8cfa8e208   \n",
       "2  fd23d931-3a7d-4ce4-ba1b-11b8a23a8a6a   \n",
       "3  317a6514-f334-435f-ba57-a41e40fd1cec   \n",
       "4  317a6514-f334-435f-ba57-a41e40fd1cec   \n",
       "\n",
       "                                       contract_name         contract_number  \\\n",
       "0  51104-002-3-551-1-0219-Sickerschacht-Heinrich ...  51104-002-3-551-1-0219   \n",
       "1  51104-002-3-551-1-0219-Sickerschacht-Heinrich ...  51104-002-3-551-1-0219   \n",
       "2  51104-002-3-391-8-0418_Deda_Absturzsicherung 1500  51104-002-3-391-8-0418   \n",
       "3  51104-002-3-391-7-0222-Gerüst Treppenturm Ster...  51104-002-3-391-7-0222   \n",
       "4  51104-002-3-391-7-0222-Gerüst Treppenturm Ster...  51104-002-3-391-7-0222   \n",
       "\n",
       "                          contractor_id  \\\n",
       "0  97e21858-34ac-4822-8d85-48753ff04a1c   \n",
       "1  97e21858-34ac-4822-8d85-48753ff04a1c   \n",
       "2  c8acee0e-1831-4462-b3bd-12717af19be2   \n",
       "3  abc455b6-5f64-481c-987b-42ea4931485e   \n",
       "4  abc455b6-5f64-481c-987b-42ea4931485e   \n",
       "\n",
       "                                contractor_name  \\\n",
       "0                 Heinrich Preis GmbH (1074998)   \n",
       "1                 Heinrich Preis GmbH (1074998)   \n",
       "2                       Deda Bau GmbH (1103584)   \n",
       "3  Wieser Malerbetrieb Gerüstbau GmbH (1091399)   \n",
       "4  Wieser Malerbetrieb Gerüstbau GmbH (1091399)   \n",
       "\n",
       "                        change_order_id  \\\n",
       "0  6fde9c97-b471-4a9e-93ba-8fa404681234   \n",
       "1  6fde9c97-b471-4a9e-93ba-8fa404681234   \n",
       "2  9351102e-4af8-465e-9821-c86dcde42c45   \n",
       "3  8ca31d1d-c7d6-490c-b009-976cf0d4e3e9   \n",
       "4  4350ea84-60dc-4a83-8819-9742718fe58f   \n",
       "\n",
       "                                   change_order_name change_order_identifier  \n",
       "0                                      Miete Bauzaun                      01  \n",
       "1                                      Miete Bauzaun                      01  \n",
       "2  NA01 Nachtragsangebot für zusätzliche provisor...                      01  \n",
       "3                          Erweiterung Schutzdach DG                      03  \n",
       "4                            Treppenlauf Lichtgraben                      04  "
      ]
     },
     "execution_count": 21,
     "metadata": {},
     "output_type": "execute_result"
    }
   ],
   "source": [
    "subset_df_change_orders.head()"
   ]
  },
  {
   "cell_type": "code",
   "execution_count": 17,
   "metadata": {},
   "outputs": [
    {
     "ename": "AttributeError",
     "evalue": "module 'Alasco' has no attribute 'Alasco'",
     "output_type": "error",
     "traceback": [
      "\u001b[0;31m---------------------------------------------------------------------------\u001b[0m",
      "\u001b[0;31mAttributeError\u001b[0m                            Traceback (most recent call last)",
      "Cell \u001b[0;32mIn[17], line 1\u001b[0m\n\u001b[0;32m----> 1\u001b[0m client \u001b[38;5;241m=\u001b[39m \u001b[43mAlasco\u001b[49m\u001b[38;5;241;43m.\u001b[39;49m\u001b[43mAlasco\u001b[49m()\n",
      "\u001b[0;31mAttributeError\u001b[0m: module 'Alasco' has no attribute 'Alasco'"
     ]
    }
   ],
   "source": [
    "client = Alasco.Alasco()"
   ]
  },
  {
   "cell_type": "code",
   "execution_count": null,
   "metadata": {},
   "outputs": [],
   "source": []
  },
  {
   "cell_type": "code",
   "execution_count": null,
   "metadata": {},
   "outputs": [],
   "source": []
  }
 ],
 "metadata": {
  "kernelspec": {
   "display_name": ".venv",
   "language": "python",
   "name": "python3"
  },
  "language_info": {
   "codemirror_mode": {
    "name": "ipython",
    "version": 3
   },
   "file_extension": ".py",
   "mimetype": "text/x-python",
   "name": "python",
   "nbconvert_exporter": "python",
   "pygments_lexer": "ipython3",
   "version": "3.12.4"
  }
 },
 "nbformat": 4,
 "nbformat_minor": 2
}
