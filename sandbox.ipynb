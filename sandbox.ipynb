{
 "cells": [
  {
   "cell_type": "code",
   "execution_count": null,
   "metadata": {},
   "outputs": [],
   "source": [
    "from Alasco.alasco import Alasco\n",
    "from dotenv import load_dotenv, find_dotenv\n",
    "import pandas as pd\n",
    "import os\n",
    "import re\n",
    "\n",
    "_ = load_dotenv(find_dotenv(raise_error_if_not_found=True))\n",
    "token = os.environ[\"token_hines\"]\n",
    "key = os.environ[\"key_hines\"]\n",
    "alasco = Alasco(token=token, key=key, verbose=True)\n",
    "\n"
   ]
  },
  {
   "cell_type": "code",
   "execution_count": null,
   "metadata": {},
   "outputs": [],
   "source": [
    "dfs = alasco.data_fetcher.get_all_df(property_name=\"LOVT\")"
   ]
  },
  {
   "cell_type": "code",
   "execution_count": null,
   "metadata": {},
   "outputs": [],
   "source": [
    "dfs[\"properties\"].head()"
   ]
  },
  {
   "cell_type": "markdown",
   "metadata": {},
   "source": [
    "## Transform df"
   ]
  },
  {
   "cell_type": "code",
   "execution_count": null,
   "metadata": {},
   "outputs": [],
   "source": [
    "df_core = df_lovt_properties[[\"id\", \"name\"]]\n",
    "df_core = df_core.rename(columns={\"id\": \"property_id\", \"name\": \"property_name\"})\n",
    "df_core.head()\n"
   ]
  },
  {
   "cell_type": "code",
   "execution_count": null,
   "metadata": {},
   "outputs": [],
   "source": [
    "df_lovt_projects = df_lovt_projects[[\"id\", \"name\", \"relationships.property.data.id\"]]\n",
    "df_lovt_projects = df_lovt_projects.rename(columns={\"id\": \"project_id\", \"name\": \"project_name\", \"relationships.property.data.id\": \"property_id\"})\n",
    "df_core = pd.merge(df_core, df_lovt_projects, on=\"property_id\")\n",
    "df_core.head(1)"
   ]
  },
  {
   "cell_type": "code",
   "execution_count": null,
   "metadata": {},
   "outputs": [],
   "source": [
    "df_contract_units = df_contract_units[[\"id\", \"name\", \"relationships.project.data.id\"]]\n",
    "df_contract_units = df_contract_units.rename(columns={\n",
    "    \"id\": \"contract_unit_id\", \n",
    "    \"name\": \"contract_unit_name\", \n",
    "    \"relationships.project.data.id\": \"project_id\",\n",
    "    })\n",
    "df_core = pd.merge(df_core, df_contract_units, on=\"project_id\")\n",
    "df_core.head(1)\n"
   ]
  },
  {
   "cell_type": "code",
   "execution_count": null,
   "metadata": {},
   "outputs": [],
   "source": [
    "df_contracts = df_contracts[[\"id\", \"name\", \"contract_number\", \"contract_unit\", \"contractor\"]]\n",
    "df_contracts = df_contracts.rename(columns={\n",
    "    \"id\": \"contract_id\",\n",
    "    \"name\": \"contract_name\",\n",
    "    \"contract_unit\": \"contract_unit_id\",\n",
    "    \"contractor\": \"contractor_id\"\n",
    "})\n",
    "df_core = pd.merge(df_core, df_contracts, on=\"contract_unit_id\")\n",
    "df_core.head(1)"
   ]
  },
  {
   "cell_type": "code",
   "execution_count": null,
   "metadata": {},
   "outputs": [],
   "source": [
    "contractor_ids = df_core[\"contractor_id\"].tolist()\n",
    "contractor_ids = [id for id in contractor_ids if id is not None]\n",
    "df_contractors = alasco.data_fetcher.get_contractors(contractor_ids=contractor_ids)\n",
    "df_contractors = df_contractors[[\"id\", \"name\"]]\n",
    "df_contractors = df_contractors.rename(columns={\"id\": \"contractor_id\", \"name\": \"contractor_name\"})\n",
    "df_core = pd.merge(df_core, df_contractors, on=\"contractor_id\")\n",
    "df_core.head(1)"
   ]
  },
  {
   "cell_type": "code",
   "execution_count": null,
   "metadata": {},
   "outputs": [],
   "source": [
    "df_invoices = df_invoices[[\"id\", \"contract\", \"external_identifier\"]]\n",
    "df_invoices = df_invoices.rename(columns={\"id\": \"invoice_id\", \"contract\": \"contract_id\",\"external_identifier\": \"invoice_number\"})\n",
    "df_invoices = pd.merge(df_core, df_invoices, on=\"contract_id\")\n",
    "df_invoices.head(1)"
   ]
  },
  {
   "cell_type": "code",
   "execution_count": null,
   "metadata": {},
   "outputs": [],
   "source": [
    "df_change_orders = df_change_orders[[\"id\", \"contract\", \"name\", \"identifier\"]]\n",
    "df_change_orders = df_change_orders.rename(columns={\n",
    "    \"id\": \"change_order_id\", \n",
    "    \"contract\": \"contract_id\",\n",
    "    \"name\": \"change_order_name\",\n",
    "    \"identifier\": \"change_order_identifier\"\n",
    "    })\n",
    "df_change_orders = pd.merge(df_core, df_change_orders, on=\"contract_id\")\n",
    "df_change_orders.head(1)"
   ]
  },
  {
   "cell_type": "markdown",
   "metadata": {},
   "source": [
    "## Download documents"
   ]
  },
  {
   "cell_type": "code",
   "execution_count": null,
   "metadata": {},
   "outputs": [],
   "source": [
    "invoice_ids = df_invoices[\"invoice_id\"].drop_duplicates().tolist()\n",
    "invoice_ids = invoice_ids[:10] #todo remove after testing\n",
    "\n",
    "df_invoice_links = alasco.document_downloader.get_invoice_documents(invoice_ids=invoice_ids)\n",
    "df_invoice_links = df_invoice_links.rename(columns={\n",
    "    \"id\": \"invoice_document_id\", \n",
    "    \"relationships.invoice.data.id\": \"invoice_id\", \n",
    "    \"links.download\": \"download_link\"})\n",
    "\n",
    "df_invoice_links = df_invoice_links[[\"invoice_document_id\", \"filename\", \"invoice_id\", \"download_link\", \"document_type\"]]\n",
    "df_invoices = pd.merge(df_invoices, df_invoice_links, on=\"invoice_id\", how=\"outer\")\n",
    "\n",
    "df = df_invoices[df_invoices[\"document_type\"] == \"INVOICE\"]\n",
    "download_links = df[\"download_link\"].tolist()\n",
    "\n",
    "def name_invoice(row:pd.Series):\n",
    "    \n",
    "    contract_number = re.sub(r'[^a-zA-Z0-9_\\-() ]', '', row[\"contract_number\"])\n",
    "    contractor_name = re.sub(r'[^a-zA-Z0-9_\\-() ]', '', row[\"contractor_name\"])\n",
    "    invoice_number = re.sub(r'[^a-zA-Z0-9_\\-() ]', '', row[\"invoice_number\"])\n",
    "\n",
    "    invoice_name = f\"invoice_{contractor_name}_{contract_number}_{invoice_number}.pdf\"\n",
    "\n",
    "    return invoice_name\n",
    "\n",
    "invoice_names = df.apply(lambda row: name_invoice(row=row), axis=1)\n",
    "\n",
    "alasco.document_downloader.download_documents(document_download_links=download_links, document_names=invoice_names)"
   ]
  },
  {
   "cell_type": "code",
   "execution_count": null,
   "metadata": {},
   "outputs": [],
   "source": [
    "df_contracts = df_core.copy()\n",
    "contract_ids = df_contracts[\"contract_id\"].drop_duplicates().tolist()\n",
    "contract_ids = contract_ids[:10] #todo remove after testing\n",
    "\n",
    "df_contract_links = alasco.document_downloader.get_contract_documents(contract_ids=contract_ids)\n",
    "df_contract_links = df_contract_links.rename(columns={\n",
    "    \"id\": \"contract_document_id\",\n",
    "    \"relationships.contract.data.id\": \"contract_id\", \n",
    "    \"links.download\": \"download_link\"})\n",
    "df_contract_links = df_contract_links[[\"contract_document_id\", \"filename\", \"contract_id\", \"download_link\", \"document_type\"]]\n",
    "df_contracts = pd.merge(df_contracts, df_contract_links, on=\"contract_id\", how=\"outer\")\n",
    "\n",
    "df = df_contracts[df_contracts[\"document_type\"] == \"CONTRACT\"]\n",
    "download_links = df[\"download_link\"].tolist()\n",
    "\n",
    "def name_contract(row:pd.Series):\n",
    "    \n",
    "    contractor_name = re.sub(r'[^a-zA-Z0-9_\\-() ]', '', row[\"contractor_name\"])\n",
    "    contract_number = re.sub(r'[^a-zA-Z0-9_\\-() ]', '', row[\"contract_number\"])\n",
    "\n",
    "    contract_name = f\"contract_{contractor_name}_{contract_number}.pdf\"\n",
    "\n",
    "    return contract_name\n",
    "\n",
    "contract_names = df.apply(lambda row: name_contract(row=row), axis=1)\n",
    "\n",
    "alasco.document_downloader.download_documents(document_download_links=download_links, document_names=contract_names)"
   ]
  },
  {
   "cell_type": "code",
   "execution_count": null,
   "metadata": {},
   "outputs": [],
   "source": [
    "change_order_ids = df_change_orders[\"change_order_id\"].drop_duplicates().tolist()\n",
    "change_order_ids = change_order_ids[:10] #todo remove after testing\n",
    "\n",
    "df_change_order_links = alasco.document_downloader.get_change_order_documents(change_order_ids=change_order_ids)\n",
    "df_change_order_links = df_change_order_links.rename(columns={\n",
    "    \"id\": \"change_order_document_id\",\n",
    "    \"relationships.change_order.data.id\": \"change_order_id\",\n",
    "    \"links.download\": \"download_links\"\n",
    "})\n",
    "df_change_order_links = df_change_order_links[[\"change_order_document_id\", \"change_order_id\", \"download_links\", \"document_type\", \"filename\"]]\n",
    "df_change_orders = pd.merge(df_change_orders, df_change_order_links, on=\"change_order_id\", how=\"outer\")\n",
    "\n",
    "df = df_change_orders[df_change_orders[\"document_type\"] == \"CHANGE_ORDER\"]\n",
    "download_links = df[\"download_links\"].tolist()\n",
    "\n",
    "def name_change_order(row:pd.Series)-> str: \n",
    "    contractor_name = re.sub(r'[^a-zA-Z0-9_\\-() ]', '', row[\"contractor_name\"])\n",
    "    contract_number = re.sub(r'[^a-zA-Z0-9_\\-() ]', '', row[\"contract_number\"])\n",
    "    change_order_identifier = re.sub(r'[^a-zA-Z0-9_\\-() ]', '', row[\"change_order_identifier\"])\n",
    "\n",
    "    change_order_name = f\"change_order_{contractor_name}_{contract_number}_{change_order_identifier}.pdf\"\n",
    "\n",
    "    return change_order_name\n",
    "\n",
    "change_order_names = df.apply(lambda row: name_change_order(row=row), axis=1)\n",
    "\n",
    "alasco.document_downloader.download_documents(\n",
    "    document_download_links=download_links,\n",
    "    document_names=change_order_names\n",
    ")"
   ]
  },
  {
   "cell_type": "code",
   "execution_count": null,
   "metadata": {},
   "outputs": [],
   "source": []
  }
 ],
 "metadata": {
  "kernelspec": {
   "display_name": ".venv",
   "language": "python",
   "name": "python3"
  },
  "language_info": {
   "codemirror_mode": {
    "name": "ipython",
    "version": 3
   },
   "file_extension": ".py",
   "mimetype": "text/x-python",
   "name": "python",
   "nbconvert_exporter": "python",
   "pygments_lexer": "ipython3",
   "version": "3.12.4"
  }
 },
 "nbformat": 4,
 "nbformat_minor": 2
}
